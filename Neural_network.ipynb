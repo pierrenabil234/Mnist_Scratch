{
  "nbformat": 4,
  "nbformat_minor": 0,
  "metadata": {
    "colab": {
      "provenance": []
    },
    "kernelspec": {
      "name": "python3",
      "display_name": "Python 3"
    },
    "language_info": {
      "name": "python"
    }
  },
  "cells": [
    {
      "cell_type": "code",
      "execution_count": null,
      "metadata": {
        "colab": {
          "base_uri": "https://localhost:8080/"
        },
        "id": "5W0edCMmyyFE",
        "outputId": "cac99973-d4df-4afe-ccf6-4793d955b877"
      },
      "outputs": [
        {
          "output_type": "stream",
          "name": "stdout",
          "text": [
            "Drive already mounted at /content/drive; to attempt to forcibly remount, call drive.mount(\"/content/drive\", force_remount=True).\n"
          ]
        }
      ],
      "source": [
        "import numpy as np\n",
        "import pandas as pd\n",
        "from matplotlib import pyplot as plt\n",
        "from google.colab import drive\n",
        "drive.mount('/content/drive')"
      ]
    },
    {
      "cell_type": "code",
      "source": [
        "data_test = pd.read_csv('/content/sample_data/mnist_test.csv')\n",
        "data_train=pd.read_csv('/content/drive/MyDrive/Chrome Syncable FileSystem/mnist_train.csv')"
      ],
      "metadata": {
        "id": "vTMelZozy2Py"
      },
      "execution_count": null,
      "outputs": []
    },
    {
      "cell_type": "code",
      "source": [
        "data_test = np.array(data_test)\n",
        "data_train=np.array(data_train)"
      ],
      "metadata": {
        "id": "8gcZTpkuy4zP"
      },
      "execution_count": null,
      "outputs": []
    },
    {
      "cell_type": "code",
      "source": [
        "rows, cols = data_test.shape\n",
        "np.random.shuffle(data_test)\n",
        "\n",
        "#separate test data\n",
        "test_data = data_test[:].T\n",
        "y_test = test_data[0]\n",
        "x_test = test_data[1:]\n",
        "x_test = x_test / 255.\n",
        "\n",
        "np.random.shuffle(data_train)\n",
        "train_data = data_train[:].T\n",
        "y_train = train_data[0]\n",
        "x_train = train_data[1:]\n",
        "x_train = x_train / 255"
      ],
      "metadata": {
        "id": "39LDFInVy7n6"
      },
      "execution_count": null,
      "outputs": []
    },
    {
      "cell_type": "code",
      "source": [
        "label_range = set(list(y_test) + list(y_train))"
      ],
      "metadata": {
        "id": "-fnJ6bH2y_bD"
      },
      "execution_count": null,
      "outputs": []
    },
    {
      "cell_type": "code",
      "source": [
        "class numpy_nn:\n",
        "    def __init__(self, X=None, Y = None, lr = None):\n",
        "\n",
        "        self.Weight1 = np.random.rand(20, 784) - 0.5#(10,700)\n",
        "        self.Bias1 = np.random.rand(20, 1) - 0.5#(10,1)\n",
        "\n",
        "        self.Weight2 = np.random.rand(10, 20) - 0.5#(10,10)\n",
        "        self.Bias2 = np.random.rand(10, 1) - 0.5#(10,1)\n",
        "\n",
        "        self.out1 = None\n",
        "        self.Activ1 = None\n",
        "        self.out2 = None\n",
        "        self.Activ2 = None\n",
        "\n",
        "\n",
        "        self.accuracy=[]\n",
        "        self.losses=[]\n",
        "\n",
        "        self.lr = lr\n",
        "\n",
        "        self.labels = Y\n",
        "        self.X = X\n",
        "\n",
        "    def forward_prop(self):\n",
        "\n",
        "        self.out1 = self.Weight1.dot(self.X) + self.Bias1\n",
        "        self.Activ1 = self.relu(self.out1)\n",
        "\n",
        "\n",
        "        self.out2 = self.Weight2.dot(self.Activ1) + self.Bias2\n",
        "        self.Activ2 = self.softmax(self.out2)\n",
        "\n",
        "    def relu(self, Z):\n",
        "        return np.maximum(Z, 0)\n",
        "\n",
        "    def softmax(self, z):\n",
        "        a = np.exp(z) / sum(np.exp(z))\n",
        "        return a\n",
        "\n",
        "    def backward_prop(self):\n",
        "        m = self.labels.size\n",
        "        one_hot_y = self.one_hot_encod()\n",
        "        dz2 = self.Activ2 - one_hot_y\n",
        "        dw2 = (1 / m) * dz2.dot(self.Activ1.T)\n",
        "        db2 = (1 / m) * np.sum(dz2)\n",
        "\n",
        "\n",
        "        dz1 = self.Weight2.T.dot(dz2) * self.deriv_relu(self.out1)\n",
        "        dw1 = (1 / m) * dz1.dot(self.X.T)\n",
        "        db1 = (1 / m) * np.sum(dz1)\n",
        "\n",
        "        self.update_params(dw1, db1, dw2, db2)\n",
        "        #self.update_params(dw1, db1)\n",
        "\n",
        "    def one_hot_encod(self):\n",
        "        one_hot_shape = (self.labels.size, len(label_range))\n",
        "        one_hot_y = np.zeros(one_hot_shape)\n",
        "        one_hot_y[np.arange(self.labels.size), self.labels] = 1\n",
        "        return one_hot_y.T\n",
        "\n",
        "    def deriv_relu(self, Z):\n",
        "        return Z > 0\n",
        "\n",
        "    def update_params(self, dw1, db1, dw2, db2):\n",
        "    #def update_params(self, dw1, db1):\n",
        "        self.Weight1 = self.Weight1 - self.lr * dw1\n",
        "        self.Bias1 = self.Bias1 - self.lr * db1\n",
        "\n",
        "        self.Weight2 = self.Weight2 - self.lr * dw2\n",
        "        self.Bias2 = self.Bias2 - self.lr * db2\n",
        "\n",
        "    def get_accuracy(self):\n",
        "        predictions = self.get_predictions()\n",
        "        self.accuracy.append( (np.sum(predictions == self.labels) / self.labels.size)*100)\n",
        "        return np.sum(predictions == self.labels) / self.labels.size\n",
        "\n",
        "    def calculate_loss(self):\n",
        "        m = self.labels.size\n",
        "        one_hot_y = self.one_hot_encod()\n",
        "        loss = -np.sum(one_hot_y * np.log(self.Activ2 + 1e-8)) / m\n",
        "        self.losses.append(loss)\n",
        "        return loss\n",
        "\n",
        "    def get_predictions(self,):\n",
        "        return np.argmax(self.Activ2, 0)\n",
        "\n",
        "    def plot_accuracy(self):\n",
        "      epochs_range = range(50, len(self.accuracy) * 50 + 1, 50)\n",
        "\n",
        "      plt.plot(epochs_range, self.accuracy, marker='o')\n",
        "      plt.title('Accuracy per Epoch')\n",
        "      plt.xlabel('Epoch')\n",
        "      plt.ylabel('Accuracy (%)')\n",
        "      plt.show()\n",
        "\n",
        "    def plot_loss(self):\n",
        "        epochs_range = range(50, len(self.accuracy) * 50 + 1, 50)\n",
        "        plt.plot(epochs_range, self.losses, marker='o', color='r')\n",
        "        plt.title('Loss per Epoch')\n",
        "        plt.xlabel('Epoch')\n",
        "        plt.ylabel('Loss')\n",
        "\n",
        "        plt.tight_layout()\n",
        "        plt.show()"
      ],
      "metadata": {
        "id": "UbPmQs5xzAv_"
      },
      "execution_count": null,
      "outputs": []
    },
    {
      "cell_type": "code",
      "source": [
        "def gradient_descent(X, Y, epochs):\n",
        "    for i in range(epochs):\n",
        "        neural_net_init.forward_prop()\n",
        "        neural_net_init.backward_prop()\n",
        "        if i%50==0:\n",
        "            print('epochs: {}'.format(i))\n",
        "            print(\"Accuracy: {}\".format(neural_net_init.get_accuracy()*100))\n",
        "            print(\"Loss: {}\".format(neural_net_init.calculate_loss()))\n"
      ],
      "metadata": {
        "id": "2WENYGHj1zXL"
      },
      "execution_count": null,
      "outputs": []
    },
    {
      "cell_type": "code",
      "source": [
        "epochs = 800\n",
        "lr = 0.10\n",
        "\n",
        "neural_net_init = numpy_nn(x_train, y_train, lr)\n",
        "gradient_descent(x_train, y_train, epochs)\n"
      ],
      "metadata": {
        "colab": {
          "base_uri": "https://localhost:8080/"
        },
        "id": "QXcI4Z4z12cF",
        "outputId": "e5a25b5b-6d36-4ac4-eebc-97f4e6246e06"
      },
      "execution_count": null,
      "outputs": [
        {
          "output_type": "stream",
          "name": "stdout",
          "text": [
            "epochs: 0\n",
            "Accuracy: 10.040167336122268\n",
            "Loss: 3.4943326692730534\n",
            "epochs: 50\n",
            "Accuracy: 67.4544575742929\n",
            "Loss: 1.0227958609220533\n",
            "epochs: 100\n",
            "Accuracy: 76.69961166019434\n",
            "Loss: 0.7413851750218737\n",
            "epochs: 150\n",
            "Accuracy: 80.4213403556726\n",
            "Loss: 0.6308855266388164\n",
            "epochs: 200\n",
            "Accuracy: 82.4913748562476\n",
            "Loss: 0.569179446824018\n",
            "epochs: 250\n",
            "Accuracy: 83.83473057884298\n",
            "Loss: 0.5285839016444843\n",
            "epochs: 300\n",
            "Accuracy: 84.79641327355456\n",
            "Loss: 0.49903154838059377\n",
            "epochs: 350\n",
            "Accuracy: 85.616426940449\n",
            "Loss: 0.476107096169043\n",
            "epochs: 400\n",
            "Accuracy: 86.26477107951798\n",
            "Loss: 0.4575846672588621\n",
            "epochs: 450\n",
            "Accuracy: 86.77477957965965\n",
            "Loss: 0.4421137159465497\n",
            "epochs: 500\n",
            "Accuracy: 87.26478774646243\n",
            "Loss: 0.42891186055494146\n",
            "epochs: 550\n",
            "Accuracy: 87.67146119101984\n",
            "Loss: 0.41743405645075904\n",
            "epochs: 600\n",
            "Accuracy: 88.06980116335272\n",
            "Loss: 0.40728652530281007\n",
            "epochs: 650\n",
            "Accuracy: 88.36313938565642\n",
            "Loss: 0.39820443718765214\n",
            "epochs: 700\n",
            "Accuracy: 88.62147702461708\n",
            "Loss: 0.3900119975790852\n",
            "epochs: 750\n",
            "Accuracy: 88.90148169136152\n",
            "Loss: 0.3825521087776901\n"
          ]
        }
      ]
    },
    {
      "cell_type": "code",
      "source": [
        "neural_net_init.plot_accuracy()\n"
      ],
      "metadata": {
        "colab": {
          "base_uri": "https://localhost:8080/",
          "height": 472
        },
        "id": "aO5Awu0F7Tz1",
        "outputId": "bbd612b8-6695-434a-9c0a-a7048cd743ac"
      },
      "execution_count": null,
      "outputs": [
        {
          "output_type": "display_data",
          "data": {
            "text/plain": [
              "<Figure size 640x480 with 1 Axes>"
            ],
            "image/png": "[encoded data removed]"
          },
          "metadata": {}
        }
      ]
    },
    {
      "cell_type": "code",
      "source": [
        "neural_net_init.plot_loss()"
      ],
      "metadata": {
        "colab": {
          "base_uri": "https://localhost:8080/",
          "height": 487
        },
        "id": "1__PTWUg7UeP",
        "outputId": "62308ffb-75c1-475a-c744-ef98ce1ec584"
      },
      "execution_count": null,
      "outputs": [
        {
          "output_type": "display_data",
          "data": {
            "text/plain": [
              "<Figure size 640x480 with 1 Axes>"
            ],
            "image/png": "[encoded data removed]"
          },
          "metadata": {}
        }
      ]
    },
    {
      "cell_type": "code",
      "source": [
        "def trial():\n",
        "    _, m = x_test.shape\n",
        "    index = np.random.randint(m +1, size=1)\n",
        "    current_image = x_test[:, int(index), None]\n",
        "    label = y_test[index]\n",
        "\n",
        "    neural_net_init.X = current_image\n",
        "    neural_net_init.labels = label\n",
        "\n",
        "    neural_net_init.forward_prop()\n",
        "    prediction = neural_net_init.get_predictions()\n",
        "    print(\"Predicted label: {}\".format(prediction))\n",
        "    print(\"Actual label: {}\".format(label))\n",
        "\n",
        "    current_image = current_image.reshape((28,28)) * 255\n",
        "    plt.gray()\n",
        "    plt.imshow(current_image, interpolation='nearest')\n",
        "    plt.show()\n",
        "\n",
        "trial()"
      ],
      "metadata": {
        "colab": {
          "base_uri": "https://localhost:8080/",
          "height": 465
        },
        "id": "W8HqFgz616gB",
        "outputId": "ab548672-3069-4f8e-912a-df16aa4114e0"
      },
      "execution_count": null,
      "outputs": [
        {
          "output_type": "stream",
          "name": "stdout",
          "text": [
            "Predicted label: [0]\n",
            "Actual label: [0]\n"
          ]
        },
        {
          "output_type": "display_data",
          "data": {
            "text/plain": [
              "<Figure size 640x480 with 1 Axes>"
            ],
            "image/png": "[encoded data removed]"
          },
          "metadata": {}
        }
      ]
    },
    {
      "cell_type": "code",
      "source": [
        "image_set = x_test\n",
        "label = y_test\n",
        "neural_net_init.X = image_set\n",
        "neural_net_init.labels = label\n",
        "neural_net_init.forward_prop()\n",
        "accuracy = neural_net_init.get_accuracy()\n",
        "loss=neural_net_init.calculate_loss()\n",
        "print(\"accuracy : {}\".format(accuracy*100))\n",
        "print(\"loss: {}\".format(loss))"
      ],
      "metadata": {
        "colab": {
          "base_uri": "https://localhost:8080/"
        },
        "id": "bSjOI7MY18VD",
        "outputId": "203df5fc-d57c-4f51-92d0-1903e9ef845c"
      },
      "execution_count": null,
      "outputs": [
        {
          "output_type": "stream",
          "name": "stdout",
          "text": [
            "accuracy : 89.54895489548956\n"
          ]
        }
      ]
    }
  ]
}